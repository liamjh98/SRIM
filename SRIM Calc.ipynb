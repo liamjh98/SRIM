{
 "cells": [
  {
   "cell_type": "code",
   "execution_count": 112,
   "id": "0e2b5c69",
   "metadata": {},
   "outputs": [],
   "source": [
    "#Box 1: Setting up and running the SRIM calculation\n",
    "\n",
    "import os\n",
    "\n",
    "import numpy as np\n",
    "import matplotlib.pyplot as plt\n",
    "\n",
    "from srim import TRIM, Ion, Layer, Target\n",
    "from srim.output import Results\n",
    "\n",
    "E = 2.9e6\n",
    "fluence = 99999 #number of ions used for simulation max 99 999\n",
    "\n",
    "\n",
    "# Construct an ion, energy in eV\n",
    "ion = Ion('H', energy=E) #9 MeV seem to be the maximum\n",
    "\n",
    "# Construct a layer, displacement energy of in eV, density in gcm^-3\n",
    "layer = Layer({\n",
    "        'Fe': {\n",
    "            'stoich': 68.995,\n",
    "            'E_d': 40.0,\n",
    "            'lattice': 0.0,\n",
    "            'surface': 3.0\n",
    "        },\n",
    "        'C':{'stoich': 0.080,\n",
    "            'E_d': 40.0,\n",
    "            'lattice': 0.0,\n",
    "            'surface': 3.0\n",
    "        },\n",
    "        'Mn':{'stoich': 2.000,\n",
    "            'E_d': 40.0,\n",
    "            'lattice': 0.0,\n",
    "            'surface': 3.0\n",
    "        },\n",
    "        'P':{'stoich': 0.045,\n",
    "            'E_d': 40.0,\n",
    "            'lattice': 0.0,\n",
    "            'surface': 3.0\n",
    "        },\n",
    "        'S':{'stoich': 0.030,\n",
    "            'E_d': 40.0,\n",
    "            'lattice': 0.0,\n",
    "            'surface': 3.0\n",
    "        },\n",
    "        'Si':{'stoich': 0.750,\n",
    "            'E_d': 40.0,\n",
    "            'lattice': 0.0,\n",
    "            'surface': 3.0\n",
    "        },\n",
    "        'Cr':{'stoich': 19.000,\n",
    "            'E_d': 40.0,\n",
    "            'lattice': 0.0,\n",
    "            'surface': 3.0\n",
    "        },\n",
    "        'Ni':{'stoich': 9.000,\n",
    "            'E_d': 40.0,\n",
    "            'lattice': 0.0,\n",
    "            'surface': 3.0\n",
    "        },\n",
    "        'N':{'stoich': 0.100,\n",
    "            'E_d': 40.0,\n",
    "            'lattice': 0.0,\n",
    "            'surface': 3.0\n",
    "        }}, density=8.0, width=2e7)\n",
    "\n",
    "# Construct a target of a single layer of Nickel\n",
    "target = Target([layer])\n",
    "\n",
    "# Initialize a TRIM calculation\n",
    "trim = TRIM(target, ion, number_ions=fluence, calculation=1) #will be changeg to 99 999 ions when the max energy value will be known\n",
    "\n",
    "# Specify the directory of SRIM.exe\n",
    "# For windows users the path will include C://...\n",
    "srim_executable_directory = 'C:/Users/domin/OneDrive/Desktop/SRIM'\n",
    "\n",
    "# takes about 10 seconds on my laptop\n",
    "results = trim.run(srim_executable_directory)\n",
    "# results is `srim.output.Results` and contains all output files parsed\n",
    "\n",
    "output_directory = 'C:/Users/domin/OneDrive/Desktop/SRIM/tmp/srim_outputs'\n",
    "os.makedirs(output_directory, exist_ok=True)\n",
    "TRIM.copy_output_files('C:/Users/domin/OneDrive/Desktop/SRIM', output_directory)\n",
    "folders = ['C:/Users/domin/OneDrive/Desktop/SRIM/tmp/srim_outputs']\n"
   ]
  },
  {
   "cell_type": "code",
   "execution_count": 113,
   "id": "6ba9b8ca",
   "metadata": {},
   "outputs": [
    {
     "data": {
      "text/plain": [
       "'\\ndef plot_vacancies(folder, ax):\\n     results = Results(folder)\\n     vac = results.vacancy\\n     vacancy_depth = vac.knock_ons + np.sum(vac.vacancies, axis=1)\\n     ax.plot(vac.depth, vacancy_depth, label=\"Total vacancies at depth\")\\n     return sum(vacancy_depth)\\n'"
      ]
     },
     "execution_count": 113,
     "metadata": {},
     "output_type": "execute_result"
    }
   ],
   "source": [
    "#Box 2\n",
    "\n",
    "from srim import output\n",
    "\n",
    "def plot_damage_energy(folder, ax):\n",
    "     results = Results(folder)\n",
    "     phon = results.phonons # This data contains energy lost to phonons per Angstom per Ion\n",
    "     dx = max(phon.depth) / 100.0 # To units of Angstroms\n",
    "     energy_damage = (phon.ions + phon.recoils) * dx # This gives the damage energy in eV (?)\n",
    "     ax.plot(phon.depth, energy_damage / phon.num_ions, label='{}'.format(folder))\n",
    "     return sum(energy_damage) # Gives the damage energy imparted to the sample over the entire thickness.\n",
    "\"\"\"\n",
    "def plot_vacancies(folder, ax):\n",
    "     results = Results(folder)\n",
    "     vac = results.vacancy\n",
    "     vacancy_depth = vac.knock_ons + np.sum(vac.vacancies, axis=1)\n",
    "     ax.plot(vac.depth, vacancy_depth, label=\"Total vacancies at depth\")\n",
    "     return sum(vacancy_depth)\n",
    "\"\"\""
   ]
  },
  {
   "cell_type": "code",
   "execution_count": 114,
   "id": "b5688653",
   "metadata": {},
   "outputs": [
    {
     "name": "stdout",
     "output_type": "stream",
     "text": [
      "Damage energy: 3006.3104 eV\n"
     ]
    },
    {
     "data": {
      "image/png": "[encoded data removed]",
      "text/plain": [
       "<Figure size 1080x432 with 1 Axes>"
      ]
     },
     "metadata": {
      "needs_background": "light"
     },
     "output_type": "display_data"
    }
   ],
   "source": [
    "#Box 3: Plotting Damage Energy\n",
    "\n",
    "# making a plot\n",
    "fig, axes = plt.subplots(1, len(folders), sharex=True, sharey=True)\n",
    "\n",
    "for ax, folder in zip(np.ravel(axes), folders):\n",
    "    energy_damage = plot_damage_energy(folder, ax)\n",
    "    print(\"Damage energy: {} eV\".format(energy_damage))\n",
    "    ax.set_xlabel('Depth [Angstroms]')\n",
    "    ax.set_ylabel('eV')\n",
    "    ax.legend()\n",
    "\n",
    "\n",
    "fig.suptitle('Damage Energy vs. Depth', fontsize=15)\n",
    "fig.set_size_inches((15, 6))\n"
   ]
  },
  {
   "cell_type": "code",
   "execution_count": 115,
   "id": "7d16449a",
   "metadata": {},
   "outputs": [
    {
     "name": "stdout",
     "output_type": "stream",
     "text": [
      "dpa obtained after 12 hours of irradiation at 2900000.0eV: 0.8852778458044854\n"
     ]
    }
   ],
   "source": [
    "#Box 4: Calculating the irradiation time\n",
    "# Getting displacment values\n",
    "dpi = (0.8 * energy_damage)/(40) # as explained in On th euse of SRIM for computing radiation damage exposure.\n",
    "\n",
    "# to get dpa\n",
    "atom_density=8.751e22 #from SRIM\n",
    "atoms = atom_density * V\n",
    "#number of ions used in SRIM\n",
    "dpa = (dpi * fluence)/(atoms)\n",
    "\n",
    "#run time\n",
    "required_dpa = 0.08 #going through that above, not done yet\n",
    "cyclotron_flux = 9.37e13\n",
    "\n",
    "time = (required_dpa*atoms)/(dpi*cyclotron_flux*3600) #in hours\n",
    "irradiation_time = 12 #in hours\n",
    "obtained_dpa = (irradiation_time*dpi*cyclotron_flux*3600)/(atoms)\n",
    "\n",
    "\n",
    "print('dpa obtained after {} hours of irradiation at {}eV: {}'.format(irradiation_time, E, obtained_dpa))"
   ]
  },
  {
   "cell_type": "code",
   "execution_count": null,
   "id": "b16d572d",
   "metadata": {},
   "outputs": [],
   "source": []
  }
 ],
 "metadata": {
  "kernelspec": {
   "display_name": "Python 3 (ipykernel)",
   "language": "python",
   "name": "python3"
  },
  "language_info": {
   "codemirror_mode": {
    "name": "ipython",
    "version": 3
   },
   "file_extension": ".py",
   "mimetype": "text/x-python",
   "name": "python",
   "nbconvert_exporter": "python",
   "pygments_lexer": "ipython3",
   "version": "3.9.7"
  }
 },
 "nbformat": 4,
 "nbformat_minor": 5
}
